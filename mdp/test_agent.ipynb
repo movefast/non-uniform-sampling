{
 "cells": [
  {
   "cell_type": "code",
   "execution_count": null,
   "metadata": {},
   "outputs": [],
   "source": []
  },
  {
   "cell_type": "code",
   "execution_count": 1,
   "metadata": {},
   "outputs": [],
   "source": [
    "%matplotlib inline\n",
    "\n",
    "import os\n",
    "import sys\n",
    "nb_dir = os.path.split(os.getcwd())[0]\n",
    "if nb_dir not in sys.path:\n",
    "    sys.path.append(nb_dir)"
   ]
  },
  {
   "cell_type": "code",
   "execution_count": 2,
   "metadata": {},
   "outputs": [],
   "source": [
    "%matplotlib inline\n",
    "import numpy as np\n",
    "import matplotlib.pyplot as plt\n",
    "import agent\n",
    "from mdp_env import MazeEnvironment\n",
    "from tqdm import tqdm\n",
    "from fastprogress.fastprogress import master_bar, progress_bar\n",
    "from IPython.display import HTML, Image\n",
    "import numpy as np\n",
    "from matplotlib import pyplot as plt\n",
    "from matplotlib import animation\n",
    "\n",
    "import torch.nn.functional as F\n",
    "\n",
    "from env.random_walk import RandomWalk\n",
    "from env import policies\n",
    "from env.policies import Policy\n",
    "from env.errors import *\n",
    "\n",
    "\n",
    "from mdp.nn_agent import LinearAgent as NNAgent\n",
    "from mdp.sarsa_agent import QLearningAgent as SarsaAgent\n",
    "from mdp.per_agent import LinearAgent as PERAgent\n",
    "from mdp.geo_agent import LinearAgent as GEOAgent\n",
    "from mdp.cer_agent import LinearAgent as CERAgent\n",
    "from mdp.mer_agent import LinearAgent as MERAgent\n",
    "from mdp.meta_per_agent import LinearAgent as MPERAgent\n",
    "from mdp.meta_cer_agent import LinearAgent as MCERAgent\n",
    "from mdp.sarsa_lambda import QLearningAgent as SarsaLAgent\n",
    "\n",
    "import torch\n",
    "\n",
    "# enable if ffmpeg codec is installed \n",
    "# plt.rcParams['animation.ffmpeg_path'] = '/anaconda3/envs/pytorch/bin/ffmpeg'"
   ]
  },
  {
   "cell_type": "code",
   "execution_count": 3,
   "metadata": {},
   "outputs": [],
   "source": [
    "plt.rcParams.update({'font.size': 15})\n",
    "plt.rcParams.update({'figure.figsize': [10,5]})"
   ]
  },
  {
   "cell_type": "markdown",
   "metadata": {},
   "source": [
    "### Helpers"
   ]
  },
  {
   "cell_type": "code",
   "execution_count": null,
   "metadata": {},
   "outputs": [],
   "source": []
  },
  {
   "cell_type": "code",
   "execution_count": 4,
   "metadata": {},
   "outputs": [],
   "source": [
    "num_states = 20\n",
    "gamma = .9"
   ]
  },
  {
   "cell_type": "code",
   "execution_count": 5,
   "metadata": {},
   "outputs": [],
   "source": [
    "def run_episode(env, agent, state_visits=None, keep_history=False):\n",
    "    is_terminal = False\n",
    "    step_count = 0\n",
    "    \n",
    "    obs = env.env_start(keep_history=keep_history)\n",
    "    action = agent.agent_start(obs)\n",
    "    \n",
    "    if state_visits is not None:\n",
    "        state_visits[obs[0]] += 1\n",
    "\n",
    "    while not is_terminal:\n",
    "        reward, obs, is_terminal = env.env_step(action)\n",
    "#         print(agent.steps,end='\\r')\n",
    "        step_count += 1\n",
    "        state = obs\n",
    "        if step_count == 1000:\n",
    "            agent.agent_end(reward, state, append_buffer=False)\n",
    "            break\n",
    "        elif is_terminal:\n",
    "            agent.agent_end(reward, state, append_buffer=True)\n",
    "        else:\n",
    "            action = agent.agent_step(reward, state)\n",
    "\n",
    "        if state_visits is not None:\n",
    "            state_visits[state[0]] += 1\n",
    "    \n",
    "    targets = np.flip([gamma**n for n in range(1,num_states+1)]).copy()# * (1 - agent.epsilon / 2)\n",
    "    if type(agent) is SarsaAgent or type(agent) is SarsaLAgent:\n",
    "        predictions = agent.q.max(axis=1)[1:-1] * (1 - agent.epsilon) \\\n",
    "            + agent.epsilon * agent.q.min(axis=1)[1:-1]\n",
    "    else:\n",
    "        predictions = agent.nn.i2o.weight.t().max(1)[0][1:-1].detach().numpy() * (1 - agent.epsilon) \\\n",
    "            + agent.epsilon * agent.nn.i2o.weight.t().mean(dim=1)[1:-1].detach().numpy()\n",
    "\n",
    "    msbpe, d = get_pred_error(agent, epsilon_greedy=True)\n",
    "    ve = np.sum(np.array(d[:-1]) * (predictions-targets)**2)\n",
    "    if keep_history:\n",
    "        history = env.history\n",
    "        env.env_cleanup()\n",
    "        return step_count, msbpe, ve, history\n",
    "    else:\n",
    "        return step_count, msbpe, ve"
   ]
  },
  {
   "cell_type": "code",
   "execution_count": 6,
   "metadata": {},
   "outputs": [],
   "source": [
    "def get_pred_error(agent, epsilon_greedy=False):\n",
    "    # TODO: change 5 to num of state in the env\n",
    "    rw_env = RandomWalk(num_states)\n",
    "    X = np.eye(rw_env.states)\n",
    "    X = np.vstack([X, np.zeros((1,rw_env.states))])\n",
    "    if type(agent) is SarsaAgent or type(agent) is SarsaLAgent:\n",
    "        action_values = torch.from_numpy(agent.q[1:]).float()\n",
    "    else:\n",
    "        action_values = agent.nn.i2o.weight.t()[1:]\n",
    "    state_action_pol = F.softmax(action_values, dim=1)\n",
    "    if not epsilon_greedy:\n",
    "        policy = policies.fromActionArray([.5,.5])\n",
    "    else:\n",
    "        policy = torch.zeros_like(action_values)\n",
    "        # 1) on-policy\n",
    "        policy.scatter_(1, action_values.max(1)[1].unsqueeze(-1), (1 - agent.epsilon))\n",
    "        policy += agent.epsilon / 2\n",
    "        policy = policies.fromStateArray(policy.cpu().detach().numpy())\n",
    "        \n",
    "    \n",
    "    P = rw_env.buildTransitionMatrix(policy)\n",
    "    R =rw_env.buildAverageReward(policy)\n",
    "    d = rw_env.getSteadyStateDist(policy)\n",
    "    \n",
    "    AbC = partiallyApplyMSPBE(X, P, R, d, gamma)\n",
    "    theta = action_values @ torch.tensor([.5, .5])\n",
    "    if epsilon_greedy:\n",
    "        theta = (1 - agent.epsilon) * action_values.max(1)[0] + agent.epsilon * theta\n",
    "#         theta = (action_values * state_action_pol).sum(dim=1)\n",
    "    theta = theta.detach().cpu().numpy()\n",
    "    mspbe = MSPBE(theta[:-1], *AbC)\n",
    "    return mspbe, d\n"
   ]
  },
  {
   "cell_type": "code",
   "execution_count": 7,
   "metadata": {},
   "outputs": [],
   "source": [
    "def animate(history, name='history.gif'):\n",
    "    frames = len(history)\n",
    "    print(f\"Rendering {frames} frames...\")\n",
    "    fig = plt.figure(figsize=(6, 2))\n",
    "    fig_grid = fig.add_subplot(121)\n",
    "\n",
    "    def render_frame(i):\n",
    "        grid = history[i]\n",
    "        fig_grid.matshow(grid, vmin=-1, vmax=1, cmap='jet')\n",
    "    anim = animation.FuncAnimation(fig, render_frame, frames=frames, interval=100);\n",
    "    plt.close(anim._fig)\n",
    "    # Option a) if ffmpeg codec is installed, display animation with ffmpeg\n",
    "    # display(HTML(anim.to_html5_video()))\n",
    "    # Option b) save as gif and display\n",
    "    anim.save(name, dpi=80, writer=animation.PillowWriter(fps=20));\n",
    "    with open(name,'rb') as file:\n",
    "        display(Image(file.read()))"
   ]
  },
  {
   "cell_type": "markdown",
   "metadata": {},
   "source": [
    "### Experiment Setup"
   ]
  },
  {
   "cell_type": "code",
   "execution_count": 8,
   "metadata": {},
   "outputs": [],
   "source": [
    "def reload(obj):\n",
    "   import inspect\n",
    "   import imp\n",
    "   cur_mod = inspect.getmodule(obj)\n",
    "   imp.reload(cur_mod)\n",
    "   mod_name = cur_mod.__name__\n",
    "   obj_name = obj.__name__\n",
    "   #from mod_name import obj_name as obj\n",
    "   return getattr(__import__(mod_name, fromlist=[obj_name]), obj_name)"
   ]
  },
  {
   "cell_type": "code",
   "execution_count": 9,
   "metadata": {},
   "outputs": [],
   "source": [
    "# importlib.reload(inspect.getmodule(SumTree))\n",
    "# importlib.reload(inspect.getmodule(Memory))\n"
   ]
  },
  {
   "cell_type": "code",
   "execution_count": 10,
   "metadata": {},
   "outputs": [],
   "source": [
    "def to_list(tups):\n",
    "    return [list(x) for x in tups]"
   ]
  },
  {
   "cell_type": "code",
   "execution_count": 11,
   "metadata": {},
   "outputs": [],
   "source": [
    "def get_env_info(n):\n",
    "    m = (n - 1) // 2\n",
    "    k = n - m\n",
    "    return {\n",
    "        \"maze_dim\": [n, n], \n",
    "        \"start_state\": [0, n-1], \n",
    "        \"end_state\": [n-1, n-1],\n",
    "        \"obstacles\": to_list([*zip([m]*k,range(m,n)), *zip(range(m+1,n), [m]*(k-1))]),\n",
    "        \"doors\": {tuple([m-1,m-1]):to_list([*zip([m]*k,range(m+1,n))])},\n",
    "    }"
   ]
  },
  {
   "cell_type": "code",
   "execution_count": 12,
   "metadata": {},
   "outputs": [],
   "source": [
    "def get_env_info_for_room(n,a=1):\n",
    "    m = (n - 1) // 2\n",
    "    k = n - m\n",
    "    return {\n",
    "        \"maze_dim\": [n, n], \n",
    "        \"start_state\": [0, n-1], \n",
    "        \"end_state\": [n-1, n-1],\n",
    "        \"obstacles\": to_list([*zip([m]*k,range(m,n)), *zip(range(m+1,n), [m]*(k-1))]),\n",
    "        \"doors\": {tuple([m-a,m-a]):to_list([*zip([m]*k,range(m+1,n))])},\n",
    "    }"
   ]
  },
  {
   "cell_type": "code",
   "execution_count": 13,
   "metadata": {},
   "outputs": [],
   "source": [
    "def get_env_info(n):\n",
    "    m = (n - 1) // 2\n",
    "    k = n - m\n",
    "    return {\n",
    "        \"maze_dim\": [n, n], \n",
    "        \"start_state\": [0, n-1], \n",
    "        \"end_state\": [n-1, n-1],\n",
    "        \"obstacles\": to_list([*zip([m]*k,range(m,n)), *zip(range(m+1,n), [m]*(k-1))]),\n",
    "        \"doors\": {tuple([m-1,m-1]):to_list([*zip([m]*k,range(m+1,n))])},\n",
    "    }"
   ]
  },
  {
   "cell_type": "code",
   "execution_count": 14,
   "metadata": {},
   "outputs": [],
   "source": [
    "envs = {\n",
    "    'Grid-World': MazeEnvironment,\n",
    "}\n",
    "\n",
    "env_infos = {\n",
    "    'MDP': {\n",
    "        \"maze_dim\": [1, num_states+2], \n",
    "        \"start_state\": [0, num_states//2+1], \n",
    "        \"end_state\": [0, num_states+1],\n",
    "        \"obstacles\":[],\n",
    "        \"doors\": {tuple():[]},\n",
    "    },\n",
    "}\n"
   ]
  },
  {
   "cell_type": "code",
   "execution_count": 15,
   "metadata": {},
   "outputs": [],
   "source": [
    "from copy import deepcopy"
   ]
  },
  {
   "cell_type": "code",
   "execution_count": 57,
   "metadata": {},
   "outputs": [],
   "source": [
    "NNAgent = reload(NNAgent)\n",
    "SarsaAgent = reload(SarsaAgent)\n",
    "SarsaLAgent = reload(SarsaLAgent)\n",
    "PERAgent = reload(PERAgent)\n",
    "GEOAgent = reload(GEOAgent)\n",
    "CERAgent = reload(CERAgent)\n",
    "MERAgent = reload(MERAgent)\n",
    "MPERAgent = reload(MPERAgent)\n",
    "MCERAgent = reload(MCERAgent)\n",
    "# lr search\n",
    "# agents = {\n",
    "#     \"NN_3e-4\": NNAgent,\n",
    "#     \"NN_1e-3\": NNAgent,\n",
    "#     \"NN_3e-3\": NNAgent,\n",
    "#     \"NN_1e-2\": NNAgent,\n",
    "# #     \"Sarsa\": SarsaAgent,\n",
    "# }\n",
    "# agent_infos = {\n",
    "#     \"Sarsa\": {\"step_size\": .1, \"buffer_size\": 100, \"batch_size\": 1},\n",
    "    \n",
    "#     \"NN_3e-4\": {\"step_size\": 3e-4, \"buffer_size\": 100, \"batch_size\": 10},\n",
    "#     \"NN_1e-3\": {\"step_size\": 1e-3, \"buffer_size\": 100, \"batch_size\": 10},\n",
    "#     \"NN_3e-3\": {\"step_size\": 3e-3, \"buffer_size\": 100, \"batch_size\": 10},\n",
    "#     \"NN_1e-2\": {\"step_size\": 1e-2, \"buffer_size\": 100, \"batch_size\": 10},\n",
    "    \n",
    "#     \"NN_100\": {\"step_size\": 3e-3, \"buffer_size\": 100, \"batch_size\": 10},\n",
    "#     \"NN_1000\": {\"step_size\": 3e-3, \"buffer_size\": 1000, \"batch_size\": 10},\n",
    "#     \"NN_10000\": {\"step_size\": 3e-3, \"buffer_size\": 10000, \"batch_size\": 10},\n",
    "    \n",
    "# }\n",
    "\n",
    "agents = {\n",
    "#     \"Uniform\": NNAgent,\n",
    "#     \"PER\": PERAgent,\n",
    "#     \"GEO\": GEOAgent,\n",
    "    \"CER\": CERAgent,\n",
    "#     \"Sarsa\": SarsaAgent,\n",
    "#     \"MER\": MERAgent,\n",
    "    \"Meta_PER\": MPERAgent,\n",
    "    \"Meta_CER\": MCERAgent,\n",
    "}\n",
    "agent_infos = {\n",
    "    \"Sarsa\": {\"step_size\": .1, \"buffer_size\": 100, \"batch_size\": 1},\n",
    "    \"Uniform\": {\"step_size\": 1e-2, \"buffer_size\": 1000, \"batch_size\": 10},\n",
    "    \"CER\": {\"step_size\": 1e-2, \"buffer_size\": 1000, \"batch_size\": 10, \"k\":1},\n",
    "    \"PER\": {\"step_size\": 3e-3, \"buffer_size\": 1000, \"batch_size\": 10, \"correction\":True, \"buffer_alpha\":0.6, \"buffer_beta\":0.4, \"beta_increment\":1e-4},\n",
    "    \"GEO\": {\"step_size\": 3e-3, \"buffer_size\": 1000, \"batch_size\": 10, \"correction\":True, \"buffer_alpha\":0.6, \"buffer_beta\":0.4, \"beta_increment\":.00003, \"p\":.1},\n",
    "    \"MER\": {\"step_size\": 1e-2, \"meta_step_size\": 1e-1, \"buffer_size\": 1000, \"batch_size\": 10, \"k\":1},\n",
    "    \"Meta_PER\": {\"step_size\": 1e-2, \"meta_step_size\": 1e-1, \"buffer_size\": 1000, \"batch_size\": 10, \"correction\":True, \"buffer_alpha\":0.6, \"buffer_beta\":0.4, \"beta_increment\":1e-4, \"online_opt\":\"sgd\"},\n",
    "    \"Meta_CER\": {\"step_size\": 1e-2, \"meta_step_size\": 1e-1, \"buffer_size\": 1000, \"batch_size\": 10, \"correction\":True, \"buffer_alpha\":0.6, \"buffer_beta\":0.4, \"beta_increment\":1e-4, \"online_opt\":\"sgd\"},\n",
    "}\n",
    "\n",
    "# agents = {\n",
    "#     \"Sarsa\": SarsaAgent,\n",
    "#     \"Sarsa_lambda\": SarsaLAgent,\n",
    "# }\n",
    "# agent_infos = {\n",
    "#     \"Sarsa\": {\"step_size\": .1, \"buffer_size\": 100, \"batch_size\": 1},\n",
    "#     \"Sarsa_lambda\": {\"step_size\": .1, \"buffer_size\": 100, \"batch_size\": 1, \"lambda\":0},\n",
    "# }\n",
    "\n"
   ]
  },
  {
   "cell_type": "markdown",
   "metadata": {},
   "source": [
    "### Train"
   ]
  },
  {
   "cell_type": "code",
   "execution_count": 58,
   "metadata": {},
   "outputs": [],
   "source": [
    "import time"
   ]
  },
  {
   "cell_type": "code",
   "execution_count": 59,
   "metadata": {},
   "outputs": [],
   "source": [
    "all_reward_sums = {} # Contains sum of rewards during episode\n",
    "all_state_visits = {} # Contains state visit counts during the last 10 episodes\n",
    "all_history = {}\n",
    "metrics = {\"msbpe\":{},\"ve\":{}}"
   ]
  },
  {
   "cell_type": "code",
   "execution_count": 60,
   "metadata": {},
   "outputs": [],
   "source": [
    "# evaluation.init(\"Plus\")"
   ]
  },
  {
   "cell_type": "markdown",
   "metadata": {},
   "source": [
    "### normal training"
   ]
  },
  {
   "cell_type": "code",
   "execution_count": 61,
   "metadata": {},
   "outputs": [
    {
     "data": {
      "text/html": [],
      "text/plain": [
       "<IPython.core.display.HTML object>"
      ]
     },
     "metadata": {},
     "output_type": "display_data"
    },
    {
     "name": "stdout",
     "output_type": "stream",
     "text": [
      "MDP\n"
     ]
    },
    {
     "name": "stderr",
     "output_type": "stream",
     "text": [
      "  0%|          | 0/5 [00:00<?, ?it/s]"
     ]
    },
    {
     "name": "stdout",
     "output_type": "stream",
     "text": [
      "episode 295\r"
     ]
    },
    {
     "name": "stderr",
     "output_type": "stream",
     "text": [
      " 20%|██        | 1/5 [00:07<00:28,  7.17s/it]"
     ]
    },
    {
     "name": "stdout",
     "output_type": "stream",
     "text": [
      "episode 294\r"
     ]
    },
    {
     "name": "stderr",
     "output_type": "stream",
     "text": [
      " 40%|████      | 2/5 [00:14<00:21,  7.11s/it]"
     ]
    },
    {
     "name": "stdout",
     "output_type": "stream",
     "text": [
      "episode 295\r"
     ]
    },
    {
     "name": "stderr",
     "output_type": "stream",
     "text": [
      " 60%|██████    | 3/5 [00:20<00:13,  6.92s/it]"
     ]
    },
    {
     "name": "stdout",
     "output_type": "stream",
     "text": [
      "episode 287\r"
     ]
    },
    {
     "name": "stderr",
     "output_type": "stream",
     "text": [
      " 80%|████████  | 4/5 [00:28<00:07,  7.20s/it]"
     ]
    },
    {
     "name": "stdout",
     "output_type": "stream",
     "text": [
      "episode 296\r"
     ]
    },
    {
     "name": "stderr",
     "output_type": "stream",
     "text": [
      "100%|██████████| 5/5 [00:36<00:00,  7.26s/it]"
     ]
    },
    {
     "name": "stdout",
     "output_type": "stream",
     "text": [
      "episode 299\r"
     ]
    },
    {
     "name": "stderr",
     "output_type": "stream",
     "text": [
      "\n",
      "  0%|          | 0/5 [00:00<?, ?it/s]"
     ]
    },
    {
     "name": "stdout",
     "output_type": "stream",
     "text": [
      "episode 296\r"
     ]
    },
    {
     "name": "stderr",
     "output_type": "stream",
     "text": [
      " 20%|██        | 1/5 [00:15<01:03, 15.78s/it]"
     ]
    },
    {
     "name": "stdout",
     "output_type": "stream",
     "text": [
      "episode 298\r"
     ]
    },
    {
     "name": "stderr",
     "output_type": "stream",
     "text": [
      " 40%|████      | 2/5 [00:30<00:46, 15.44s/it]"
     ]
    },
    {
     "name": "stdout",
     "output_type": "stream",
     "text": [
      "episode 294\r"
     ]
    },
    {
     "name": "stderr",
     "output_type": "stream",
     "text": [
      " 60%|██████    | 3/5 [00:43<00:29, 14.85s/it]"
     ]
    },
    {
     "name": "stdout",
     "output_type": "stream",
     "text": [
      "episode 294\r"
     ]
    },
    {
     "name": "stderr",
     "output_type": "stream",
     "text": [
      " 80%|████████  | 4/5 [00:59<00:15, 15.21s/it]"
     ]
    },
    {
     "name": "stdout",
     "output_type": "stream",
     "text": [
      "episode 291\r"
     ]
    },
    {
     "name": "stderr",
     "output_type": "stream",
     "text": [
      "100%|██████████| 5/5 [01:13<00:00, 14.79s/it]"
     ]
    },
    {
     "name": "stdout",
     "output_type": "stream",
     "text": [
      "episode 299\r"
     ]
    },
    {
     "name": "stderr",
     "output_type": "stream",
     "text": [
      "\n",
      "  0%|          | 0/5 [00:00<?, ?it/s]"
     ]
    },
    {
     "name": "stdout",
     "output_type": "stream",
     "text": [
      "episode 293\r"
     ]
    },
    {
     "name": "stderr",
     "output_type": "stream",
     "text": [
      " 20%|██        | 1/5 [00:11<00:45, 11.26s/it]"
     ]
    },
    {
     "name": "stdout",
     "output_type": "stream",
     "text": [
      "episode 293\r"
     ]
    },
    {
     "name": "stderr",
     "output_type": "stream",
     "text": [
      " 40%|████      | 2/5 [00:21<00:33, 11.07s/it]"
     ]
    },
    {
     "name": "stdout",
     "output_type": "stream",
     "text": [
      "episode 298\r"
     ]
    },
    {
     "name": "stderr",
     "output_type": "stream",
     "text": [
      " 60%|██████    | 3/5 [00:32<00:21, 10.95s/it]"
     ]
    },
    {
     "name": "stdout",
     "output_type": "stream",
     "text": [
      "episode 298\r"
     ]
    },
    {
     "name": "stderr",
     "output_type": "stream",
     "text": [
      " 80%|████████  | 4/5 [00:45<00:11, 11.67s/it]"
     ]
    },
    {
     "name": "stdout",
     "output_type": "stream",
     "text": [
      "episode 289\r"
     ]
    },
    {
     "name": "stderr",
     "output_type": "stream",
     "text": [
      "100%|██████████| 5/5 [00:57<00:00, 11.47s/it]"
     ]
    },
    {
     "name": "stdout",
     "output_type": "stream",
     "text": [
      "episode 299\r"
     ]
    },
    {
     "name": "stderr",
     "output_type": "stream",
     "text": [
      "\n"
     ]
    },
    {
     "name": "stdout",
     "output_type": "stream",
     "text": [
      "167.61002731323242\n"
     ]
    }
   ],
   "source": [
    "start = time.time()\n",
    "num_runs = 5\n",
    "num_episodes = 300\n",
    "Environment = envs['Grid-World']\n",
    "\n",
    "mb = master_bar(env_infos.items())\n",
    "\n",
    "for env_name, env_info in mb:\n",
    "    if env_name not in all_reward_sums:\n",
    "        all_reward_sums[env_name] = {}\n",
    "        all_state_visits[env_name] = {}\n",
    "        for metric in metrics:\n",
    "            metrics[metric][env_name] = {}\n",
    "        print(env_name)\n",
    "    for algorithm in progress_bar(list(agents.keys()), parent=mb):\n",
    "        all_reward_sums[env_name][algorithm] = []\n",
    "        all_state_visits[env_name][algorithm] = []\n",
    "        for run in tqdm(range(num_runs)):\n",
    "            agent = agents[algorithm]()\n",
    "            env = Environment()\n",
    "            env.env_init(env_info)\n",
    "#             print(env_info)\n",
    "            agent_info = {\"num_actions\": 2, \"num_states\": env.cols * env.rows, \"epsilon\": 1, \"step_size\": 0.1, \"discount\": gamma} \n",
    "            agent_info[\"seed\"] = run\n",
    "            agent_info.update(agent_infos[algorithm])\n",
    "            np.random.seed(run)\n",
    "            agent.agent_init(agent_info)\n",
    "\n",
    "            reward_sums = []\n",
    "            lst_of_msbpe = []\n",
    "            lst_of_ve = []\n",
    "            state_visits = np.zeros(env.cols * env.rows)\n",
    "            epsilon = 1\n",
    "#             epsilon = .1\n",
    "            agent.per_power = 1\n",
    "            for episode in range(num_episodes):\n",
    "                print(f\"episode {episode}\",end='\\r')\n",
    "                agent.epsilon = epsilon\n",
    "                if episode < num_episodes - 10:\n",
    "                    sum_of_rewards, msbpe, ve = run_episode(env, agent) \n",
    "                else: \n",
    "#                     Runs an episode while keeping track of visited states and history\n",
    "                    sum_of_rewards, msbpe, ve, history = run_episode(env, agent, state_visits, keep_history=True)\n",
    "                    all_history.setdefault(env_name, {}).setdefault(algorithm, []).append(history)\n",
    "                epsilon *= 0.99\n",
    "                reward_sums.append(sum_of_rewards)\n",
    "                lst_of_msbpe.append(msbpe)\n",
    "                lst_of_ve.append(ve)\n",
    "\n",
    "            all_reward_sums[env_name].setdefault(algorithm, []).append(reward_sums)\n",
    "            all_state_visits[env_name].setdefault(algorithm, []).append(state_visits)\n",
    "            metrics[\"msbpe\"][env_name].setdefault(algorithm, []).append(lst_of_msbpe)\n",
    "            metrics[\"ve\"][env_name].setdefault(algorithm, []).append(lst_of_ve)\n",
    "            \n",
    "metrics['all_reward_sums'] = deepcopy(all_reward_sums)\n",
    "end = time.time()\n",
    "print(end - start)"
   ]
  },
  {
   "cell_type": "code",
   "execution_count": 47,
   "metadata": {},
   "outputs": [
    {
     "name": "stderr",
     "output_type": "stream",
     "text": [
      "/home/derek/anaconda3/envs/fpp/lib/python3.7/site-packages/ipykernel_launcher.py:17: MatplotlibDeprecationWarning: Adding an axes using the same arguments as a previous axes currently reuses the earlier instance.  In a future version, a new instance will always be created and returned.  Meanwhile, this warning can be suppressed, and the future behavior ensured, by passing a unique label to each axes instance.\n"
     ]
    },
    {
     "data": {
      "image/png": "[encoded data removed]",
      "text/plain": [
       "<Figure size 1440x720 with 4 Axes>"
      ]
     },
     "metadata": {
      "needs_background": "light"
     },
     "output_type": "display_data"
    }
   ],
   "source": [
    "plt.figure(figsize=(20,10))\n",
    "tmp={\"NN\": \"Uniform\", \"NNP\": \"Uncertainty\", \"NNT\":\"Diversity\"}\n",
    "env = Environment()\n",
    "env.env_init(env_info)\n",
    "for i, algorithm in enumerate(list(agents.keys())): \n",
    "    position = int(f\"32{i+1}\")\n",
    "    plt.subplot(position)\n",
    "    average_state_visits = np.array(all_state_visits[env_name][algorithm]).mean(axis=0)\n",
    "    grid_state_visits = average_state_visits.reshape((env.rows,env.cols))\n",
    "    plt.pcolormesh(grid_state_visits, edgecolors='gray', linewidth=2, cmap='jet')\n",
    "    plt.title(tmp.get(algorithm, algorithm))\n",
    "    plt.axis('off')\n",
    "    cm = plt.get_cmap()\n",
    "    cm.set_bad('gray')\n",
    "\n",
    "    plt.subplots_adjust(bottom=0.0, right=0.7, top=1.0)\n",
    "    cax = plt.axes([0.85, 0.0, 0.075, 1.])\n",
    "cbar = plt.colorbar(cax=cax)\n",
    "cbar.ax.set_ylabel(\"Visits during\\n the last 10\\n episodes\", rotation=0, labelpad=70)\n",
    "plt.show()"
   ]
  },
  {
   "cell_type": "code",
   "execution_count": null,
   "metadata": {},
   "outputs": [],
   "source": []
  },
  {
   "cell_type": "code",
   "execution_count": 48,
   "metadata": {},
   "outputs": [],
   "source": [
    "all_reward_sums = deepcopy(metrics['ve'])\n",
    "# all_reward_sums = deepcopy(metrics['msbpe'])\n",
    "# all_reward_sums = deepcopy(metrics['all_reward_sums'])"
   ]
  },
  {
   "cell_type": "code",
   "execution_count": 332,
   "metadata": {},
   "outputs": [],
   "source": [
    "num_runs = 20\n",
    "num_episodes = 300"
   ]
  },
  {
   "cell_type": "code",
   "execution_count": 55,
   "metadata": {},
   "outputs": [
    {
     "data": {
      "image/png": "[encoded data removed]",
      "text/plain": [
       "<Figure size 1440x720 with 1 Axes>"
      ]
     },
     "metadata": {
      "needs_background": "light"
     },
     "output_type": "display_data"
    }
   ],
   "source": [
    "tmp={\"NN\": \"Uniform\", \"NNP\": \"Uncertainty\", \"NNT\":\"Diversity\"}\n",
    "tmp1={'DoorWorldWide3':'GridWorldD3','DoorWorldWide11':'DoorWorldWide13X13D4'}\n",
    "plt.figure(figsize=(20,10))\n",
    "for env in env_infos:\n",
    "    for i, algorithm in enumerate(list(agents.keys())):\n",
    "        if algorithm not in all_reward_sums[env]:\n",
    "            continue\n",
    "        algorithm_means = -np.mean(all_reward_sums[env][algorithm], axis=0)\n",
    "#         algorithm_means = np.mean(all_reward_sums[env][algorithm], axis=0)\n",
    "        algorithm_stds = np.std(all_reward_sums[env][algorithm], axis=0)\n",
    "        plt.plot(algorithm_means, label=tmp1.get(env,env)+'_'+tmp.get(algorithm, algorithm),\n",
    "                 alpha=0.5)\n",
    "        plt.fill_between(range(num_episodes), algorithm_means + algorithm_stds/np.sqrt(num_runs), algorithm_means - algorithm_stds/np.sqrt(num_runs), alpha=0.2)\n",
    "# plt.ylabel(\"RMSE\",rotation=0, labelpad=20)\n",
    "plt.ylabel(\"Sum of Rewards\",rotation=0, labelpad=20)\n",
    "plt.xlabel(\"Episodes\")\n",
    "# plt.ylim(0,.002)\n",
    "# plt.ylim(-50,0)\n",
    "# plt.ylim(0,.006)\n",
    "# plt.plot([0,500],[-18,-18])\n",
    "# plt.title(\"learning rate search\")\n",
    "# plt.title(\"Nonstationary Policy in 5-state RandomWalk (buffer_size=1000)\")\n",
    "# plt.title(\"Value Error under Random Policy (20-state RandomWalk|buffer_size=1000)\")\n",
    "\n",
    "plt.legend()\n",
    "plt.show()\n"
   ]
  },
  {
   "cell_type": "code",
   "execution_count": 56,
   "metadata": {},
   "outputs": [
    {
     "name": "stdout",
     "output_type": "stream",
     "text": [
      "agent\tAverage rewards\tSEM\n",
      "CER\t-29.048\t1.3347\n",
      "Meta_PER\t-31.1193\t1.34\n",
      "Meta_CER\t-32.092\t1.1783\n"
     ]
    }
   ],
   "source": [
    "print(\"agent\", \"Average rewards\", \"SEM\", sep='\\t')\n",
    "for env in env_infos:\n",
    "    for algo in agents.keys():\n",
    "        if algo in all_reward_sums[env]:\n",
    "            print(algo, -np.around(np.mean(np.array(all_reward_sums[env][algo])[:,:]),decimals=4), np.around(np.std(np.mean(np.array(all_reward_sums[env][algo])[:,:], axis=1))/np.sqrt(num_runs),decimals=4), sep='\\t')"
   ]
  },
  {
   "cell_type": "code",
   "execution_count": 52,
   "metadata": {},
   "outputs": [
    {
     "data": {
      "text/plain": [
       "array([[0., 0.],\n",
       "       [0., 0.],\n",
       "       [0., 0.],\n",
       "       [0., 0.],\n",
       "       [0., 0.],\n",
       "       [0., 0.],\n",
       "       [0., 0.],\n",
       "       [0., 0.],\n",
       "       [0., 0.],\n",
       "       [0., 0.],\n",
       "       [0., 0.],\n",
       "       [0., 0.],\n",
       "       [0., 0.],\n",
       "       [0., 0.],\n",
       "       [0., 0.],\n",
       "       [0., 0.],\n",
       "       [0., 0.],\n",
       "       [0., 0.],\n",
       "       [0., 0.],\n",
       "       [0., 0.],\n",
       "       [0., 0.],\n",
       "       [0., 0.],\n",
       "       [0., 0.],\n",
       "       [0., 0.],\n",
       "       [0., 0.],\n",
       "       [0., 0.],\n",
       "       [0., 0.],\n",
       "       [0., 0.],\n",
       "       [0., 0.],\n",
       "       [0., 0.],\n",
       "       [0., 0.],\n",
       "       [0., 0.],\n",
       "       [0., 0.],\n",
       "       [0., 0.],\n",
       "       [0., 0.],\n",
       "       [0., 0.],\n",
       "       [0., 0.],\n",
       "       [0., 0.],\n",
       "       [0., 0.],\n",
       "       [0., 0.],\n",
       "       [0., 0.],\n",
       "       [0., 0.],\n",
       "       [0., 0.],\n",
       "       [0., 0.],\n",
       "       [0., 0.],\n",
       "       [0., 0.],\n",
       "       [0., 0.],\n",
       "       [0., 0.],\n",
       "       [0., 0.],\n",
       "       [0., 0.],\n",
       "       [0., 0.],\n",
       "       [0., 0.],\n",
       "       [0., 0.],\n",
       "       [0., 0.],\n",
       "       [0., 0.],\n",
       "       [0., 0.],\n",
       "       [0., 0.],\n",
       "       [0., 0.],\n",
       "       [0., 0.],\n",
       "       [0., 0.],\n",
       "       [0., 0.],\n",
       "       [0., 0.],\n",
       "       [0., 0.],\n",
       "       [0., 0.],\n",
       "       [0., 0.],\n",
       "       [0., 0.],\n",
       "       [0., 0.],\n",
       "       [0., 0.],\n",
       "       [0., 0.],\n",
       "       [0., 0.],\n",
       "       [0., 0.],\n",
       "       [0., 0.],\n",
       "       [0., 0.],\n",
       "       [0., 0.],\n",
       "       [0., 0.],\n",
       "       [0., 0.],\n",
       "       [0., 0.],\n",
       "       [0., 0.],\n",
       "       [0., 0.],\n",
       "       [0., 0.],\n",
       "       [0., 0.],\n",
       "       [0., 0.],\n",
       "       [0., 0.],\n",
       "       [0., 0.],\n",
       "       [0., 0.],\n",
       "       [0., 0.],\n",
       "       [0., 0.],\n",
       "       [0., 0.],\n",
       "       [0., 0.],\n",
       "       [0., 0.],\n",
       "       [0., 0.],\n",
       "       [0., 0.],\n",
       "       [0., 0.],\n",
       "       [0., 0.],\n",
       "       [0., 0.],\n",
       "       [0., 0.],\n",
       "       [0., 0.],\n",
       "       [0., 0.],\n",
       "       [0., 0.],\n",
       "       [0., 0.],\n",
       "       [0., 1.],\n",
       "       [0., 0.]])"
      ]
     },
     "execution_count": 52,
     "metadata": {},
     "output_type": "execute_result"
    }
   ],
   "source": [
    "agent.z"
   ]
  },
  {
   "cell_type": "code",
   "execution_count": 107,
   "metadata": {},
   "outputs": [
    {
     "data": {
      "text/plain": [
       "array([[0.        , 0.        ],\n",
       "       [0.        , 0.        ],\n",
       "       [0.        , 0.        ],\n",
       "       [0.        , 0.        ],\n",
       "       [0.        , 0.        ],\n",
       "       [0.        , 0.        ],\n",
       "       [0.        , 0.        ],\n",
       "       [0.        , 0.        ],\n",
       "       [0.        , 0.        ],\n",
       "       [0.        , 0.        ],\n",
       "       [0.        , 0.        ],\n",
       "       [0.        , 0.28096663],\n",
       "       [0.        , 0.71254987],\n",
       "       [0.3539153 , 0.44580397],\n",
       "       [0.        , 0.50034115],\n",
       "       [0.        , 0.56155011],\n",
       "       [0.        , 0.63024704],\n",
       "       [0.        , 0.70734797],\n",
       "       [0.        , 0.793881  ],\n",
       "       [0.        , 0.891     ],\n",
       "       [0.        , 1.        ],\n",
       "       [0.        , 0.        ]])"
      ]
     },
     "execution_count": 107,
     "metadata": {},
     "output_type": "execute_result"
    }
   ],
   "source": [
    "agent.z"
   ]
  },
  {
   "cell_type": "code",
   "execution_count": null,
   "metadata": {},
   "outputs": [],
   "source": []
  }
 ],
 "metadata": {
  "kernelspec": {
   "display_name": "Python 3.7.7 64-bit ('fpp': conda)",
   "language": "python",
   "name": "python37764bitfppcondae1fe1a88713143789471cb684e5828ba"
  },
  "language_info": {
   "codemirror_mode": {
    "name": "ipython",
    "version": 3
   },
   "file_extension": ".py",
   "mimetype": "text/x-python",
   "name": "python",
   "nbconvert_exporter": "python",
   "pygments_lexer": "ipython3",
   "version": "3.7.7"
  }
 },
 "nbformat": 4,
 "nbformat_minor": 4
}

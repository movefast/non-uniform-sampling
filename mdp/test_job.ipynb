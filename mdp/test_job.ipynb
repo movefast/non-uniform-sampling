{
 "cells": [
  {
   "cell_type": "code",
   "execution_count": 1,
   "metadata": {},
   "outputs": [],
   "source": [
    "%matplotlib inline\n",
    "\n",
    "import os\n",
    "import sys\n",
    "nb_dir = os.path.split(os.getcwd())[0]\n",
    "if nb_dir not in sys.path:\n",
    "    sys.path.append(nb_dir)"
   ]
  },
  {
   "cell_type": "code",
   "execution_count": 2,
   "metadata": {},
   "outputs": [],
   "source": [
    "import collections\n",
    "import glob\n",
    "\n",
    "import fire\n",
    "import numpy as np\n",
    "import pandas as pd\n",
    "import torch\n",
    "from configs import ROOT_DIR\n",
    "from matplotlib import pyplot as plt\n",
    "\n",
    "metrics = {\"msbpe\":{},\"ve\":{}, \"all_reward_sums\": {}, \"hyper_params\": {}}\n",
    "\n",
    "# results = pd.DataFrame(columns = ['agent', 'score', 'params'],\n",
    "#                                   index = list(range(MAX_EVALS)))\n",
    "\n",
    "agent_names_in_plot={\"NN\": \"Uniform\", \"NNP\": \"Uncertainty\", \"NNT\":\"Diversity\"}\n",
    "env_names_in_plot={'DoorWorldWide3':'GridWorldD3','DoorWorldWide11':'DoorWorldWide13X13D4'}\n",
    "titles = {\"msbpe\":'MSPBE',\"ve\":'Value Error (VE)', \"all_reward_sums\":'Sum of Rewards'}\n",
    "filtered_agent_list = [\"Uniform\", \"PER\", \"GEO\", \"CER\", \"Sarsa\"]\n",
    "y_lims = {\"msbpe\",\"ve\", \"all_reward_sums\"}\n",
    "y_labels = {\"msbpe\":\"MSPBE\",\"ve\":\"Value Error (VE)\", \"all_reward_sums\":\"Sum of Rewards\"}\n",
    "stats_metric = {\"msbpe\":\"AUC\",\"ve\":\"AUC\", \"all_reward_sums\":\"Average Rewards\"}\n",
    "\n",
    "env_infos = {\n",
    "    'MDP': {\n",
    "        \"maze_dim\": [1, 102], \n",
    "        \"start_state\": [0, 51], \n",
    "        \"end_state\": [0, 101],\n",
    "        \"obstacles\":[],\n",
    "        \"doors\": {tuple():[]},\n",
    "    },\n",
    "}\n",
    "\n",
    "num_episodes = 300\n",
    "from mdp.run_single_job import num_runs\n",
    "from mdp.write_jobs import agents, params_to_search"
   ]
  },
  {
   "cell_type": "code",
   "execution_count": 3,
   "metadata": {},
   "outputs": [],
   "source": [
    "num_episodes = 300\n",
    "from mdp.run_single_job import num_runs\n",
    "\n",
    "\n",
    "def dict_merge(dct, merge_dct):\n",
    "    \"\"\" Recursive dict merge. Inspired by :meth:``dict.update()``, instead of\n",
    "    updating only top-level keys, dict_merge recurses down into dicts nested\n",
    "    to an arbitrary depth, updating keys. The ``merge_dct`` is merged into\n",
    "    ``dct``.\n",
    "    :param dct: dict onto which the merge is executed\n",
    "    :param merge_dct: dct merged into dct\n",
    "    :return: None\n",
    "    \"\"\"\n",
    "    for k, v in merge_dct.items():\n",
    "        if (k in dct and isinstance(dct[k], dict)\n",
    "                and isinstance(merge_dct[k], collections.Mapping)):\n",
    "            dict_merge(dct[k], merge_dct[k])\n",
    "        elif k in dct and isinstance(dct[k], list) and isinstance(v, list):\n",
    "            print('hehehe')\n",
    "        else:\n",
    "            dct[k] = merge_dct[k]"
   ]
  },
  {
   "cell_type": "code",
   "execution_count": 4,
   "metadata": {},
   "outputs": [
    {
     "name": "stderr",
     "output_type": "stream",
     "text": [
      "/home/derek/anaconda3/envs/fpp/lib/python3.7/site-packages/ipykernel_launcher.py:16: DeprecationWarning: Using or importing the ABCs from 'collections' instead of from 'collections.abc' is deprecated since Python 3.3,and in 3.9 it will stop working\n",
      "  app.launch_new_instance()\n"
     ]
    }
   ],
   "source": [
    "for file in glob.glob(str(ROOT_DIR/'metrics/*')):\n",
    "    dict_merge(metrics, torch.load(file))"
   ]
  },
  {
   "cell_type": "code",
   "execution_count": 5,
   "metadata": {},
   "outputs": [
    {
     "data": {
      "text/plain": [
       "dict_keys(['Uniform_step_size_0.01', 'Uniform_step_size_0.00125'])"
      ]
     },
     "execution_count": 5,
     "metadata": {},
     "output_type": "execute_result"
    }
   ],
   "source": [
    "metrics['all_reward_sums']['MDP'].keys()"
   ]
  },
  {
   "cell_type": "code",
   "execution_count": 6,
   "metadata": {},
   "outputs": [
    {
     "data": {
      "text/plain": [
       "{'Uniform': {'step_size': [0.01, 0.005, 0.0025, 0.00125, 0.000625]},\n",
       " 'Sarsa': {'step_size': [0.5,\n",
       "   0.25,\n",
       "   0.125,\n",
       "   0.0625,\n",
       "   0.03125,\n",
       "   0.015625,\n",
       "   0.0078125]},\n",
       " 'CER': {'step_size': [0.01, 0.005, 0.0025, 0.00125, 0.000625]},\n",
       " 'PER': {'step_size': [0.01, 0.005, 0.0025, 0.00125, 0.000625],\n",
       "  'buffer_alpha': [0, 0.4, 0.6, 0.7, 0.8],\n",
       "  'buffer_beta': [0, 0.4, 0.5, 0.6, 1]},\n",
       " 'GEO': {'step_size': [0.01, 0.005, 0.0025, 0.00125, 0.000625],\n",
       "  'buffer_alpha': [0, 0.4, 0.6, 0.7, 0.8],\n",
       "  'buffer_beta': [0, 0.4, 0.5, 0.6, 1],\n",
       "  'p': [0.1, 0.3, 0.5, 0.7, 0.9]}}"
      ]
     },
     "execution_count": 6,
     "metadata": {},
     "output_type": "execute_result"
    }
   ],
   "source": []
  },
  {
   "cell_type": "code",
   "execution_count": 16,
   "metadata": {},
   "outputs": [],
   "source": [
    "env = 'MDP'\n",
    "param = 'step_size'\n",
    "metric_name = 'all_reward_sums'"
   ]
  },
  {
   "cell_type": "code",
   "execution_count": 19,
   "metadata": {},
   "outputs": [],
   "source": [
    "def get_metric_stats(env, metric_name, algorithm):\n",
    "    if metric_name == \"all_reward_sums\":\n",
    "        algorithm_stats = -np.around(np.mean(metrics[metric_name][env][algorithm]),decimals=4)\n",
    "    else:\n",
    "        algorithm_stats = np.around(np.mean(metrics[metric_name][env][algorithm])*300,decimals=4)\n",
    "    return algorithm_stats"
   ]
  },
  {
   "cell_type": "code",
   "execution_count": 23,
   "metadata": {},
   "outputs": [
    {
     "data": {
      "text/plain": [
       "-20.7533"
      ]
     },
     "execution_count": 23,
     "metadata": {},
     "output_type": "execute_result"
    }
   ],
   "source": [
    "get_metric_stats(env, metric_name, 'Uniform_step_size_0.01')"
   ]
  },
  {
   "cell_type": "code",
   "execution_count": 32,
   "metadata": {},
   "outputs": [
    {
     "name": "stdout",
     "output_type": "stream",
     "text": [
      "Uniform step_size 0.01\n",
      "['Uniform_step_size_0.01']\n",
      "Uniform step_size 0.005\n",
      "[]\n",
      "Uniform step_size 0.0025\n",
      "[]\n",
      "Uniform step_size 0.00125\n",
      "['Uniform_step_size_0.00125']\n",
      "Uniform step_size 0.000625\n",
      "[]\n",
      "PER step_size 0.01\n",
      "[]\n",
      "PER step_size 0.005\n",
      "[]\n",
      "PER step_size 0.0025\n",
      "[]\n",
      "PER step_size 0.00125\n",
      "[]\n",
      "PER step_size 0.000625\n",
      "[]\n",
      "GEO step_size 0.01\n",
      "[]\n",
      "GEO step_size 0.005\n",
      "[]\n",
      "GEO step_size 0.0025\n",
      "[]\n",
      "GEO step_size 0.00125\n",
      "[]\n",
      "GEO step_size 0.000625\n",
      "[]\n",
      "CER step_size 0.01\n",
      "[]\n",
      "CER step_size 0.005\n",
      "[]\n",
      "CER step_size 0.0025\n",
      "[]\n",
      "CER step_size 0.00125\n",
      "[]\n",
      "CER step_size 0.000625\n",
      "[]\n",
      "Sarsa step_size 0.5\n",
      "[]\n",
      "Sarsa step_size 0.25\n",
      "[]\n",
      "Sarsa step_size 0.125\n",
      "[]\n",
      "Sarsa step_size 0.0625\n",
      "[]\n",
      "Sarsa step_size 0.03125\n",
      "[]\n",
      "Sarsa step_size 0.015625\n",
      "[]\n",
      "Sarsa step_size 0.0078125\n",
      "[]\n"
     ]
    },
    {
     "data": {
      "image/png": "[encoded data removed]",
      "text/plain": [
       "<Figure size 432x288 with 1 Axes>"
      ]
     },
     "metadata": {
      "needs_background": "light"
     },
     "output_type": "display_data"
    }
   ],
   "source": [
    "for agent_type in filtered_agent_list:\n",
    "    x_values = []\n",
    "    y_values = []\n",
    "    for val in params_to_search[agent_type][param]:\n",
    "        print(agent_type, param, val)\n",
    "        agent_names = list(filter(lambda x: x.startswith(agent_type) and f'{param}_{val}' in x,  list(metrics[metric_name][env].keys())))\n",
    "        print(agent_names)\n",
    "        lst_of_stats = [get_metric_stats(env, metric_name, agent_name) for agent_name in agent_names]\n",
    "        if lst_of_stats:\n",
    "            x_values.append(val)\n",
    "            y_values.append(max(lst_of_stats))\n",
    "            \n",
    "    plt.plot(x_values,y_values)\n",
    "            "
   ]
  },
  {
   "cell_type": "code",
   "execution_count": 44,
   "metadata": {},
   "outputs": [
    {
     "data": {
      "text/plain": [
       "{'Uniform': {'step_size': [0.01, 0.005, 0.0025, 0.00125, 0.000625]},\n",
       " 'Sarsa': {'step_size': [0.5,\n",
       "   0.25,\n",
       "   0.125,\n",
       "   0.0625,\n",
       "   0.03125,\n",
       "   0.015625,\n",
       "   0.0078125]},\n",
       " 'CER': {'step_size': [0.01, 0.005, 0.0025, 0.00125, 0.000625]},\n",
       " 'PER': {'step_size': [0.01, 0.005, 0.0025, 0.00125, 0.000625],\n",
       "  'buffer_alpha': [0, 0.4, 0.6, 0.7, 0.8],\n",
       "  'buffer_beta': [0, 0.4, 0.5, 0.6, 1]},\n",
       " 'GEO': {'step_size': [0.01, 0.005, 0.0025, 0.00125, 0.000625],\n",
       "  'buffer_alpha': [0, 0.4, 0.6, 0.7, 0.8],\n",
       "  'buffer_beta': [0, 0.4, 0.5, 0.6, 1],\n",
       "  'p': [0.1, 0.3, 0.5, 0.7, 0.9]}}"
      ]
     },
     "execution_count": 44,
     "metadata": {},
     "output_type": "execute_result"
    }
   ],
   "source": [
    "params_to_search"
   ]
  },
  {
   "cell_type": "code",
   "execution_count": 45,
   "metadata": {},
   "outputs": [],
   "source": [
    "['agent'].remove('agent')"
   ]
  },
  {
   "cell_type": "code",
   "execution_count": null,
   "metadata": {},
   "outputs": [],
   "source": []
  }
 ],
 "metadata": {
  "kernelspec": {
   "display_name": "Python 3.7.7 64-bit ('fpp': conda)",
   "language": "python",
   "name": "python37764bitfppcondae1fe1a88713143789471cb684e5828ba"
  },
  "language_info": {
   "codemirror_mode": {
    "name": "ipython",
    "version": 3
   },
   "file_extension": ".py",
   "mimetype": "text/x-python",
   "name": "python",
   "nbconvert_exporter": "python",
   "pygments_lexer": "ipython3",
   "version": "3.7.7"
  }
 },
 "nbformat": 4,
 "nbformat_minor": 4
}
